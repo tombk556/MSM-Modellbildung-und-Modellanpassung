{
 "cells": [
  {
   "cell_type": "code",
   "execution_count": 469,
   "metadata": {},
   "outputs": [],
   "source": [
    "import sympy\n",
    "import numpy as np\n",
    "import pandas as pd"
   ]
  },
  {
   "cell_type": "markdown",
   "metadata": {},
   "source": [
    "### Daten einlesen"
   ]
  },
  {
   "cell_type": "code",
   "execution_count": 470,
   "metadata": {},
   "outputs": [],
   "source": [
    "with open(\"../Daten/chemischesSystem1.txt\", \"r\") as file:\n",
    "    data = [line.rstrip() for line in file]\n",
    "\n",
    "\n",
    "def get_spec_ele(data: list[str]) -> tuple[list]:\n",
    "    ns = data[0].split(\";\")\n",
    "    ne = data[-1].split(\";\")\n",
    "    return ns, ne\n",
    "\n",
    "specs, ele = get_spec_ele(data)\n",
    "ns = len(specs)\n",
    "ne = len(ele)"
   ]
  },
  {
   "cell_type": "code",
   "execution_count": 471,
   "metadata": {},
   "outputs": [
    {
     "name": "stdout",
     "output_type": "stream",
     "text": [
      "['N,2', 'O,2', 'H,2,O,1', 'N,1,O,1', 'N,1,O,2', 'N,1,H,3', 'H,1,N,1,O,3']\n",
      "7\n",
      "['H', 'N', 'O']\n",
      "3\n"
     ]
    }
   ],
   "source": [
    "print(specs)\n",
    "print(ns)\n",
    "\n",
    "print(ele)\n",
    "print(ne)"
   ]
  },
  {
   "cell_type": "markdown",
   "metadata": {},
   "source": [
    "### Formel Matrix **A**\n"
   ]
  },
  {
   "cell_type": "code",
   "execution_count": 472,
   "metadata": {},
   "outputs": [
    {
     "data": {
      "text/plain": [
       "array([[0, 0, 2, 0, 0, 3, 1],\n",
       "       [2, 0, 0, 1, 1, 1, 1],\n",
       "       [0, 2, 1, 1, 2, 0, 3]])"
      ]
     },
     "execution_count": 472,
     "metadata": {},
     "output_type": "execute_result"
    }
   ],
   "source": [
    "def get_formel_matrix_A(specs: list[str], eles: list[str]):\n",
    "    counts_list = []\n",
    "\n",
    "    for s in specs:\n",
    "        counts = {}\n",
    "        tokens = s.split(\",\")\n",
    "        for i in range(0, len(tokens), 2):\n",
    "            element = tokens[i]\n",
    "            count = int(tokens[i+1])\n",
    "            counts[element] = count\n",
    "        counts_list.append(counts)\n",
    "\n",
    "    result = []\n",
    "    for element in eles:\n",
    "        counts_for_element = []\n",
    "        for counts in counts_list:\n",
    "            counts_for_element.append(counts.get(element, 0))\n",
    "        result.append(counts_for_element)\n",
    "\n",
    "\n",
    "    return np.array(result)\n",
    "\n",
    "A = get_formel_matrix_A(specs, ele)\n",
    "A"
   ]
  },
  {
   "cell_type": "markdown",
   "metadata": {},
   "source": [
    "### Gauß Algorithmus"
   ]
  },
  {
   "cell_type": "code",
   "execution_count": 473,
   "metadata": {},
   "outputs": [],
   "source": [
    "A = sympy.Matrix(A)\n",
    "matrix, dim = A.rref()"
   ]
  },
  {
   "cell_type": "markdown",
   "metadata": {},
   "source": [
    "### A^"
   ]
  },
  {
   "cell_type": "code",
   "execution_count": 474,
   "metadata": {},
   "outputs": [
    {
     "data": {
      "text/latex": [
       "$\\displaystyle \\left[\\begin{matrix}- \\frac{1}{2} & - \\frac{1}{2} & - \\frac{1}{2} & - \\frac{1}{2}\\\\- \\frac{1}{2} & -1 & \\frac{3}{4} & - \\frac{5}{4}\\\\0 & 0 & - \\frac{3}{2} & - \\frac{1}{2}\\end{matrix}\\right]$"
      ],
      "text/plain": [
       "Matrix([\n",
       "[-1/2, -1/2, -1/2, -1/2],\n",
       "[-1/2,   -1,  3/4, -5/4],\n",
       "[   0,    0, -3/2, -1/2]])"
      ]
     },
     "execution_count": 474,
     "metadata": {},
     "output_type": "execute_result"
    }
   ],
   "source": [
    "start_index = dim[-1] + 1\n",
    "cols = [col for col in range(start_index, matrix.cols)]\n",
    "A_hut = matrix[:, cols] * -1\n",
    "A_hut\n",
    "\n"
   ]
  },
  {
   "cell_type": "markdown",
   "metadata": {},
   "source": [
    "### Y"
   ]
  },
  {
   "cell_type": "code",
   "execution_count": 475,
   "metadata": {},
   "outputs": [
    {
     "data": {
      "text/latex": [
       "$\\displaystyle \\left[\\begin{matrix}- \\frac{1}{2} & - \\frac{1}{2} & - \\frac{1}{2} & - \\frac{1}{2}\\\\- \\frac{1}{2} & -1 & \\frac{3}{4} & - \\frac{5}{4}\\\\0 & 0 & - \\frac{3}{2} & - \\frac{1}{2}\\\\1 & 0 & 0 & 0\\\\0 & 1 & 0 & 0\\\\0 & 0 & 1 & 0\\\\0 & 0 & 0 & 1\\end{matrix}\\right]$"
      ],
      "text/plain": [
       "Matrix([\n",
       "[-1/2, -1/2, -1/2, -1/2],\n",
       "[-1/2,   -1,  3/4, -5/4],\n",
       "[   0,    0, -3/2, -1/2],\n",
       "[   1,    0,    0,    0],\n",
       "[   0,    1,    0,    0],\n",
       "[   0,    0,    1,    0],\n",
       "[   0,    0,    0,    1]])"
      ]
     },
     "execution_count": 475,
     "metadata": {},
     "output_type": "execute_result"
    }
   ],
   "source": [
    "Y = A_hut.row_insert(A_hut.rows, sympy.Matrix.eye(A_hut.cols))\n",
    "Y"
   ]
  },
  {
   "cell_type": "markdown",
   "metadata": {},
   "source": [
    "### Reaktions Tabelle"
   ]
  },
  {
   "cell_type": "code",
   "execution_count": 476,
   "metadata": {},
   "outputs": [
    {
     "data": {
      "text/html": [
       "<div>\n",
       "<style scoped>\n",
       "    .dataframe tbody tr th:only-of-type {\n",
       "        vertical-align: middle;\n",
       "    }\n",
       "\n",
       "    .dataframe tbody tr th {\n",
       "        vertical-align: top;\n",
       "    }\n",
       "\n",
       "    .dataframe thead th {\n",
       "        text-align: right;\n",
       "    }\n",
       "</style>\n",
       "<table border=\"1\" class=\"dataframe\">\n",
       "  <thead>\n",
       "    <tr style=\"text-align: right;\">\n",
       "      <th></th>\n",
       "      <th>Chemical Species</th>\n",
       "      <th>Reaction 1</th>\n",
       "      <th>Reaction 2</th>\n",
       "      <th>Reaction 3</th>\n",
       "      <th>Reaction 4</th>\n",
       "    </tr>\n",
       "  </thead>\n",
       "  <tbody>\n",
       "    <tr>\n",
       "      <th>0</th>\n",
       "      <td>N,2</td>\n",
       "      <td>-1/2</td>\n",
       "      <td>-1/2</td>\n",
       "      <td>-1/2</td>\n",
       "      <td>-1/2</td>\n",
       "    </tr>\n",
       "    <tr>\n",
       "      <th>1</th>\n",
       "      <td>O,2</td>\n",
       "      <td>-1/2</td>\n",
       "      <td>-1</td>\n",
       "      <td>3/4</td>\n",
       "      <td>-5/4</td>\n",
       "    </tr>\n",
       "    <tr>\n",
       "      <th>2</th>\n",
       "      <td>H,2,O,1</td>\n",
       "      <td>0</td>\n",
       "      <td>0</td>\n",
       "      <td>-3/2</td>\n",
       "      <td>-1/2</td>\n",
       "    </tr>\n",
       "    <tr>\n",
       "      <th>3</th>\n",
       "      <td>N,1,O,1</td>\n",
       "      <td>1</td>\n",
       "      <td>0</td>\n",
       "      <td>0</td>\n",
       "      <td>0</td>\n",
       "    </tr>\n",
       "    <tr>\n",
       "      <th>4</th>\n",
       "      <td>N,1,O,2</td>\n",
       "      <td>0</td>\n",
       "      <td>1</td>\n",
       "      <td>0</td>\n",
       "      <td>0</td>\n",
       "    </tr>\n",
       "    <tr>\n",
       "      <th>5</th>\n",
       "      <td>N,1,H,3</td>\n",
       "      <td>0</td>\n",
       "      <td>0</td>\n",
       "      <td>1</td>\n",
       "      <td>0</td>\n",
       "    </tr>\n",
       "    <tr>\n",
       "      <th>6</th>\n",
       "      <td>H,1,N,1,O,3</td>\n",
       "      <td>0</td>\n",
       "      <td>0</td>\n",
       "      <td>0</td>\n",
       "      <td>1</td>\n",
       "    </tr>\n",
       "  </tbody>\n",
       "</table>\n",
       "</div>"
      ],
      "text/plain": [
       "  Chemical Species Reaction 1 Reaction 2 Reaction 3 Reaction 4\n",
       "0              N,2       -1/2       -1/2       -1/2       -1/2\n",
       "1              O,2       -1/2         -1        3/4       -5/4\n",
       "2          H,2,O,1          0          0       -3/2       -1/2\n",
       "3          N,1,O,1          1          0          0          0\n",
       "4          N,1,O,2          0          1          0          0\n",
       "5          N,1,H,3          0          0          1          0\n",
       "6      H,1,N,1,O,3          0          0          0          1"
      ]
     },
     "execution_count": 476,
     "metadata": {},
     "output_type": "execute_result"
    }
   ],
   "source": [
    "data = {\"Chemical Species\": specs}\n",
    "\n",
    "for i in range(Y.shape[1]):\n",
    "    data[f\"Reaction {i+1}\"] = [Y[j, i] for j in range(Y.shape[0])]\n",
    "\n",
    "df = pd.DataFrame(data)\n",
    "\n",
    "df"
   ]
  }
 ],
 "metadata": {
  "kernelspec": {
   "display_name": ".venv",
   "language": "python",
   "name": "python3"
  },
  "language_info": {
   "codemirror_mode": {
    "name": "ipython",
    "version": 3
   },
   "file_extension": ".py",
   "mimetype": "text/x-python",
   "name": "python",
   "nbconvert_exporter": "python",
   "pygments_lexer": "ipython3",
   "version": "3.9.12"
  }
 },
 "nbformat": 4,
 "nbformat_minor": 2
}
