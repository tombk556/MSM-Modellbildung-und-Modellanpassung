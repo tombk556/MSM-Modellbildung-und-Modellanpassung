{
 "cells": [
  {
   "cell_type": "code",
   "execution_count": 34,
   "metadata": {},
   "outputs": [],
   "source": [
    "import numpy as np\n",
    "from sympy import symbols, Eq, solve"
   ]
  },
  {
   "cell_type": "markdown",
   "metadata": {},
   "source": [
    "## Linearen Gleichungssysteme"
   ]
  },
  {
   "cell_type": "markdown",
   "metadata": {},
   "source": [
    "### Apotheker Beispiel\n",
    "\n",
    "Ein Apotheker hat 36% und 21% Alkohol. Welche Mengen muss er mischen, um 5 Liter 30% Alkohol zu erhalten?\n",
    "\n",
    "I x1 + x2 = 5\n",
    "\n",
    "II 0.36x1 + 0.21x2 = 1.5"
   ]
  },
  {
   "cell_type": "code",
   "execution_count": 35,
   "metadata": {},
   "outputs": [
    {
     "name": "stdout",
     "output_type": "stream",
     "text": [
      "[[3.125]\n",
      " [1.875]]\n"
     ]
    }
   ],
   "source": [
    "A = np.array([\n",
    "    [1, 1],\n",
    "    [0.36, 0.2]\n",
    "])\n",
    "\n",
    "b = np.array([\n",
    "    [5],\n",
    "    [1.5]\n",
    "]\n",
    ")\n",
    "\n",
    "x = np.linalg.solve(A, b)\n",
    "print(x)\n",
    "\n",
    "### Lösung: x1 = 3.125, x2 = 1.875"
   ]
  },
  {
   "cell_type": "markdown",
   "metadata": {},
   "source": [
    "### Reaktionsgleichungen auflösen\n",
    "$$\n",
    "\\text{C} +  \\text{Fe}_2\\text{O}_3 \\rightarrow \\text{Fe} + \\text{CO}_2\n",
    "$$\n",
    "\n",
    "#### (1) Variablen einführen:\n",
    "$$\n",
    "a*\\text{C} +  b*\\text{Fe}_2\\text{O}_3 \\rightarrow c*\\text{Fe} + d*\\text{CO}_2\n",
    "$$\n",
    "\n",
    "#### (2) LGS aufstellen:\n",
    "\n",
    "I   a = d\n",
    "\n",
    "II  2b = c\n",
    "\n",
    "III 3b = 2d\n"
   ]
  },
  {
   "cell_type": "code",
   "execution_count": 42,
   "metadata": {},
   "outputs": [
    {
     "name": "stdout",
     "output_type": "stream",
     "text": [
      "Lösung in Abhängigkeit von c: {a: c/2, b: c/2, d: 3*c/4}\n",
      "Lösung für c=4: {a: 2, b: 2, d: 3}\n"
     ]
    }
   ],
   "source": [
    "a, b, c, d = symbols('a b c d')\n",
    "\n",
    "# Formeln aufstellen: \n",
    "eq1 = Eq(a , b)\n",
    "eq2 = Eq(2*b, c)\n",
    "eq3 = Eq(3*b, 2*d)\n",
    "\n",
    "# Subsitution:\n",
    "solution = solve([eq1, eq2, eq3], (a, b, d))\n",
    "print(\"Lösung in Abhängigkeit von c:\", solution)\n",
    "\n",
    "# Now you can substitute c with a value like 4\n",
    "final_solution = {c: 4}\n",
    "final_values = {var: solution[var].subs(final_solution) for var in solution}\n",
    "print(\"Lösung für c=4:\", final_values)\n"
   ]
  }
 ],
 "metadata": {
  "kernelspec": {
   "display_name": ".venv",
   "language": "python",
   "name": "python3"
  },
  "language_info": {
   "codemirror_mode": {
    "name": "ipython",
    "version": 3
   },
   "file_extension": ".py",
   "mimetype": "text/x-python",
   "name": "python",
   "nbconvert_exporter": "python",
   "pygments_lexer": "ipython3",
   "version": "3.9.12"
  }
 },
 "nbformat": 4,
 "nbformat_minor": 2
}
