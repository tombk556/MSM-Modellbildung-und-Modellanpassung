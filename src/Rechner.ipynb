{
 "cells": [
  {
   "cell_type": "code",
   "execution_count": 2,
   "metadata": {},
   "outputs": [],
   "source": [
    "import numpy as np\n",
    "from sympy import symbols, Eq, solve\n",
    "import sympy as sp\n",
    "from functools import cache\n",
    "import matplotlib.pyplot as plt"
   ]
  },
  {
   "cell_type": "markdown",
   "metadata": {},
   "source": [
    "## Linearen Gleichungssysteme"
   ]
  },
  {
   "cell_type": "markdown",
   "metadata": {},
   "source": [
    "### Apotheker Beispiel\n",
    "\n",
    "Ein Apotheker hat 36% und 21% Alkohol. Welche Mengen muss er mischen, um 5 Liter 30% Alkohol zu erhalten?\n",
    "\n",
    "I x1 + x2 = 5\n",
    "\n",
    "II 0.36x1 + 0.21x2 = 1.5"
   ]
  },
  {
   "cell_type": "code",
   "execution_count": 3,
   "metadata": {},
   "outputs": [
    {
     "name": "stdout",
     "output_type": "stream",
     "text": [
      "[[3.125]\n",
      " [1.875]]\n"
     ]
    }
   ],
   "source": [
    "A = np.array([\n",
    "    [1, 1],\n",
    "    [0.36, 0.2]\n",
    "])\n",
    "\n",
    "b = np.array([\n",
    "    [5],\n",
    "    [1.5]\n",
    "]\n",
    ")\n",
    "\n",
    "x = np.linalg.solve(A, b)\n",
    "print(x)\n",
    "\n",
    "### Lösung: x1 = 3.125, x2 = 1.875"
   ]
  },
  {
   "cell_type": "markdown",
   "metadata": {},
   "source": [
    "### Reaktionsgleichungen auflösen\n",
    "$$\n",
    "\\text{C} +  \\text{Fe}_2\\text{O}_3 \\rightarrow \\text{Fe} + \\text{CO}_2\n",
    "$$\n",
    "\n",
    "#### (1) Variablen einführen:\n",
    "$$\n",
    "a*\\text{C} +  b*\\text{Fe}_2\\text{O}_3 \\rightarrow c*\\text{Fe} + d*\\text{CO}_2\n",
    "$$\n",
    "\n",
    "#### (2) LGS aufstellen:\n",
    "\n",
    "I   a = d\n",
    "\n",
    "II  2b = c\n",
    "\n",
    "III 3b = 2d\n"
   ]
  },
  {
   "cell_type": "code",
   "execution_count": 4,
   "metadata": {},
   "outputs": [
    {
     "name": "stdout",
     "output_type": "stream",
     "text": [
      "Lösung in Abhängigkeit von c: {a: 3*c/4, b: c/2, d: 3*c/4}\n",
      "Lösung für c = 4: {a: 3, b: 2, d: 3}\n"
     ]
    }
   ],
   "source": [
    "a, b, c, d = symbols('a b c d')\n",
    "\n",
    "# Lineare Gleichungen aufstellen:\n",
    "eq1 = Eq(a - d, 0)\n",
    "eq2 = Eq(2*b - c, 0)\n",
    "eq3 = Eq(3*b - 2*d, 0)\n",
    "\n",
    "# erste Lösung:\n",
    "lsg1 = solve([eq1, eq2, eq3], (a, b, d))\n",
    "print(\"Lösung in Abhängigkeit von c:\", lsg1)\n",
    "\n",
    "# Now you can substitute c with a value like 4\n",
    "lsg2 = {c: 4}\n",
    "lsg2 = {var: lsg1[var].subs(lsg2) for var in lsg1}\n",
    "print(\"Lösung für c = 4:\", lsg2)"
   ]
  },
  {
   "cell_type": "markdown",
   "metadata": {},
   "source": [
    "## Chemische Reaktionen im Mehrspeziessystem"
   ]
  },
  {
   "cell_type": "markdown",
   "metadata": {},
   "source": [
    "### Kern und Abbild"
   ]
  },
  {
   "cell_type": "code",
   "execution_count": 5,
   "metadata": {},
   "outputs": [
    {
     "data": {
      "text/latex": [
       "$\\displaystyle \\left[\\begin{matrix}1 & 2\\\\3 & 6\\end{matrix}\\right]$"
      ],
      "text/plain": [
       "Matrix([\n",
       "[1, 2],\n",
       "[3, 6]])"
      ]
     },
     "execution_count": 5,
     "metadata": {},
     "output_type": "execute_result"
    }
   ],
   "source": [
    "A = sp.Matrix([[1, 2], [3, 6]])\n",
    "A"
   ]
  },
  {
   "cell_type": "code",
   "execution_count": 6,
   "metadata": {},
   "outputs": [
    {
     "name": "stdout",
     "output_type": "stream",
     "text": [
      "Der Kern (Nullraum) der Matrix ist:\n"
     ]
    },
    {
     "data": {
      "text/latex": [
       "$\\displaystyle \\left[\\begin{matrix}-2\\\\1\\end{matrix}\\right]$"
      ],
      "text/plain": [
       "Matrix([\n",
       "[-2],\n",
       "[ 1]])"
      ]
     },
     "execution_count": 6,
     "metadata": {},
     "output_type": "execute_result"
    }
   ],
   "source": [
    "\n",
    "kern = A.nullspace()[0]\n",
    "print(\"Der Kern (Nullraum) der Matrix ist:\")\n",
    "kern\n"
   ]
  },
  {
   "cell_type": "code",
   "execution_count": 7,
   "metadata": {},
   "outputs": [
    {
     "name": "stdout",
     "output_type": "stream",
     "text": [
      "Der Spaltenraum (Bild) der Matrix ist:\n"
     ]
    },
    {
     "data": {
      "text/latex": [
       "$\\displaystyle \\left[\\begin{matrix}1\\\\3\\end{matrix}\\right]$"
      ],
      "text/plain": [
       "Matrix([\n",
       "[1],\n",
       "[3]])"
      ]
     },
     "execution_count": 7,
     "metadata": {},
     "output_type": "execute_result"
    }
   ],
   "source": [
    "bild = A.columnspace()[0]\n",
    "\n",
    "print(\"Der Spaltenraum (Bild) der Matrix ist:\")\n",
    "bild"
   ]
  },
  {
   "cell_type": "markdown",
   "metadata": {},
   "source": [
    "### Beispiel\n",
    "$$\n",
    "    (\\text{Na}_2\\text{O}, \\text{Cr}\\text{Cl}_3, \\text{Na}\\text{O}\\text{H}, \\text{Na}\\text{Cl}, \\text{H}_2\\text{O}, \\text{Na}_2\\text{Cr}\\text{O}_4, \\text{Cl}_2), (H, O, Cr, Cl)\n",
    "$$\n"
   ]
  },
  {
   "cell_type": "code",
   "execution_count": 8,
   "metadata": {},
   "outputs": [
    {
     "data": {
      "text/latex": [
       "$\\displaystyle \\left[\\begin{matrix}0 & 0 & 1 & 0 & 2 & 0 & 0\\\\1 & 0 & 1 & 0 & 1 & 4 & 0\\\\2 & 0 & 1 & 1 & 0 & 2 & 0\\\\0 & 1 & 0 & 0 & 0 & 1 & 0\\\\0 & 3 & 0 & 1 & 0 & 0 & 2\\end{matrix}\\right]$"
      ],
      "text/plain": [
       "Matrix([\n",
       "[0, 0, 1, 0, 2, 0, 0],\n",
       "[1, 0, 1, 0, 1, 4, 0],\n",
       "[2, 0, 1, 1, 0, 2, 0],\n",
       "[0, 1, 0, 0, 0, 1, 0],\n",
       "[0, 3, 0, 1, 0, 0, 2]])"
      ]
     },
     "execution_count": 8,
     "metadata": {},
     "output_type": "execute_result"
    }
   ],
   "source": [
    "# Formelmatrix A:\n",
    "\n",
    "A = sp.Matrix(\n",
    "    [[0, 0, 1, 0, 2, 0, 0],\n",
    "     [1, 0, 1, 0, 1, 4, 0],\n",
    "     [2, 0, 1, 1, 0, 2, 0],\n",
    "     [0, 1, 0, 0, 0, 1, 0],\n",
    "     [0, 3, 0, 1, 0, 0, 2]]\n",
    ")\n",
    "A"
   ]
  },
  {
   "cell_type": "code",
   "execution_count": 9,
   "metadata": {},
   "outputs": [
    {
     "data": {
      "text/latex": [
       "$\\displaystyle \\left[\\begin{matrix}-4 & 1\\\\-1 & 0\\\\0 & -2\\\\6 & 0\\\\-1.5 & 0\\end{matrix}\\right]$"
      ],
      "text/plain": [
       "Matrix([\n",
       "[  -4,  1],\n",
       "[  -1,  0],\n",
       "[   0, -2],\n",
       "[   6,  0],\n",
       "[-1.5,  0]])"
      ]
     },
     "execution_count": 9,
     "metadata": {},
     "output_type": "execute_result"
    }
   ],
   "source": [
    "# Gauß-Verfahren und A^:\n",
    "\n",
    "A_rref = sp.Matrix(\n",
    "    [[1, 0, 0, 0, 0, 4, -1],\n",
    "     [0, 1, 0, 0, 0, 1, 0],\n",
    "     [0, 0, 1, 0, 0, 0, 2],\n",
    "     [0, 0, 0, 1, 0, -6, 0],\n",
    "     [0, 0, 0, 0, 1, 3/2, 0]]\n",
    ")\n",
    "A_rref\n",
    "A_hut = A_rref[:, [5, 6]] * -1\n",
    "\n",
    "A_hut\n"
   ]
  },
  {
   "cell_type": "code",
   "execution_count": 10,
   "metadata": {},
   "outputs": [
    {
     "data": {
      "text/latex": [
       "$\\displaystyle \\left[\\begin{matrix}-4 & 1\\\\-1 & 0\\\\0 & -2\\\\6 & 0\\\\-1.5 & 0\\\\1 & 0\\\\0 & 1\\end{matrix}\\right]$"
      ],
      "text/plain": [
       "Matrix([\n",
       "[  -4,  1],\n",
       "[  -1,  0],\n",
       "[   0, -2],\n",
       "[   6,  0],\n",
       "[-1.5,  0],\n",
       "[   1,  0],\n",
       "[   0,  1]])"
      ]
     },
     "execution_count": 10,
     "metadata": {},
     "output_type": "execute_result"
    }
   ],
   "source": [
    "# Stöchiometrische Matrix Y:\n",
    "\n",
    "Y = A_hut.row_insert(A_hut.rows, sp.Matrix.eye(A_hut.cols))\n",
    "Y"
   ]
  },
  {
   "cell_type": "markdown",
   "metadata": {},
   "source": [
    "Reaktionen: \n",
    "\n",
    "$$\n",
    "     17\\text{Na}\\text{Cl} + 2\\text{Na}_2\\text{Cr}\\text{O}_4 \\rightarrow\\ 8\\text{Na}_2\\text{O} + 2\\text{Cr}\\text{Cl}_3 + 3\\text{Cl}_2\n",
    "$$\n",
    "\n",
    "$$\n",
    "     \\text{Na}_2\\text{O} + \\text{H}_2\\text{O} \\rightarrow\\ 2\\text{Na}\\text{O}\\text{H}\n",
    "$$"
   ]
  },
  {
   "cell_type": "markdown",
   "metadata": {},
   "source": [
    "## Dynamische Modelle - Diskrete Modelle"
   ]
  },
  {
   "cell_type": "markdown",
   "metadata": {},
   "source": [
    "### Baktieren Beispiel"
   ]
  },
  {
   "cell_type": "code",
   "execution_count": 11,
   "metadata": {},
   "outputs": [
    {
     "name": "stdout",
     "output_type": "stream",
     "text": [
      "Rekursion: 4722366482869645213696\n",
      "Explizit: 4722366482869645213696\n",
      "Algemein: 4.7223664828696415e+21\n"
     ]
    }
   ],
   "source": [
    "x0 = 1\n",
    "\n",
    "@cache\n",
    "def rekursion(n: int) -> float:\n",
    "    if n == 0:\n",
    "        return x0\n",
    "    else:\n",
    "        return rekursion(n - 1) * 2\n",
    "\n",
    "def explizit(n: int) -> float:\n",
    "    return 2**n * x0\n",
    "\n",
    "def allgemein(n: int) -> float:\n",
    "    return x0 * np.exp(n * np.log(2))\n",
    "\n",
    "print(\"Rekursion:\", rekursion(72))\n",
    "print(\"Explizit:\", explizit(72))\n",
    "print(\"Algemein:\", allgemein(72))"
   ]
  },
  {
   "cell_type": "markdown",
   "metadata": {},
   "source": [
    "### Baktieren Beispiel mit beschränkten Ressourcen"
   ]
  },
  {
   "cell_type": "code",
   "execution_count": 12,
   "metadata": {},
   "outputs": [
    {
     "name": "stdout",
     "output_type": "stream",
     "text": [
      "Rekursion: 57331.1396690838\n"
     ]
    },
    {
     "data": {
      "image/png": "[encoded data removed]",
      "text/plain": [
       "<Figure size 640x480 with 1 Axes>"
      ]
     },
     "metadata": {},
     "output_type": "display_data"
    }
   ],
   "source": [
    "def wachstumsrate(x: float, k: int, r: float) -> float:\n",
    "    return r * (1 - x/k)\n",
    "\n",
    "\n",
    "@cache\n",
    "def rekursion(n: int) -> float:\n",
    "    if n == 0:\n",
    "        return x0\n",
    "    else:\n",
    "        xn = rekursion(n - 1)\n",
    "        r = wachstumsrate(xn, 10**6, 3)\n",
    "        return xn * r\n",
    "    \n",
    "print(\"Rekursion:\", rekursion(10))\n",
    "\n",
    "x = [x for x in np.linspace(0, 72, 10)]\n",
    "y = [rekursion(xn) for xn in x]\n",
    "plt.plot(x, y, \"-o\")\n",
    "plt.show()"
   ]
  },
  {
   "cell_type": "code",
   "execution_count": 13,
   "metadata": {},
   "outputs": [
    {
     "name": "stdout",
     "output_type": "stream",
     "text": [
      "Rekursion: 642672.6260170431\n"
     ]
    },
    {
     "data": {
      "image/png": "[encoded data removed]",
      "text/plain": [
       "<Figure size 640x480 with 1 Axes>"
      ]
     },
     "metadata": {},
     "output_type": "display_data"
    }
   ],
   "source": [
    "def wachstumsrate(x: float, k: int, r: float) -> float:\n",
    "    return r * (1 - x / k)\n",
    "\n",
    "def rekursion_iterative(n: int, x0: float) -> float:\n",
    "    xn = x0\n",
    "    for i in range(1, n + 1):\n",
    "        r = wachstumsrate(xn, 10**6, 3)\n",
    "        xn = xn * r\n",
    "    return xn\n",
    "\n",
    "x0 = 1\n",
    "\n",
    "result = rekursion_iterative(100, x0)\n",
    "print(\"Rekursion:\", result)\n",
    "\n",
    "import numpy as np\n",
    "import matplotlib.pyplot as plt\n",
    "\n",
    "x = np.linspace(0, 72, 10000)\n",
    "y = [rekursion_iterative(int(xn), x0) for xn in x]\n",
    "\n",
    "plt.plot(x, y)\n",
    "plt.xlabel('n')\n",
    "plt.ylabel('rekursion(n)')\n",
    "plt.show()\n"
   ]
  },
  {
   "cell_type": "markdown",
   "metadata": {},
   "source": [
    "### Graphen"
   ]
  },
  {
   "cell_type": "code",
   "execution_count": 45,
   "metadata": {},
   "outputs": [],
   "source": [
    "A = np.array([\n",
    "    [0, 1, 0, 0],\n",
    "    [1, 0, 1, 1],\n",
    "    [0, 1, 0, 1],\n",
    "    [0, 1, 1, 0]\n",
    "])\n",
    "\n",
    "D = np.array([[1, 0, 0, 0],\n",
    "              [0, 3, 0, 0],\n",
    "              [0, 0, 2, 0],\n",
    "              [0, 0, 0, 2]])\n",
    "\n",
    "D_1 = np.linalg.inv(D)\n",
    "\n",
    "P = np.linalg.inv(D) @ A"
   ]
  },
  {
   "cell_type": "markdown",
   "metadata": {},
   "source": [
    "#### Irrfahrt (Random Walk)"
   ]
  },
  {
   "cell_type": "code",
   "execution_count": 46,
   "metadata": {},
   "outputs": [
    {
     "name": "stdout",
     "output_type": "stream",
     "text": [
      "[[0 3 1 1]\n",
      " [3 2 4 4]\n",
      " [1 4 2 3]\n",
      " [1 4 3 2]]\n",
      "[[0.         0.66666667 0.16666667 0.16666667]\n",
      " [0.22222222 0.16666667 0.30555556 0.30555556]\n",
      " [0.08333333 0.45833333 0.16666667 0.29166667]\n",
      " [0.08333333 0.45833333 0.29166667 0.16666667]]\n"
     ]
    }
   ],
   "source": [
    "print(np.linalg.matrix_power(A, 3))\n",
    "print(np.linalg.matrix_power(P, 3))"
   ]
  },
  {
   "cell_type": "markdown",
   "metadata": {},
   "source": [
    "#### Konvergenz - Stationäre Verteilung"
   ]
  },
  {
   "cell_type": "code",
   "execution_count": 47,
   "metadata": {},
   "outputs": [
    {
     "name": "stdout",
     "output_type": "stream",
     "text": [
      "[[0.125 0.375 0.25  0.25 ]\n",
      " [0.125 0.375 0.25  0.25 ]\n",
      " [0.125 0.375 0.25  0.25 ]\n",
      " [0.125 0.375 0.25  0.25 ]]\n"
     ]
    }
   ],
   "source": [
    "def simulate_convergence(P, steps=100):\n",
    "    P_t = np.linalg.matrix_power(P, steps)\n",
    "    return P_t\n",
    "\n",
    "P_t = simulate_convergence(P, steps=1000)\n",
    "print(P_t)"
   ]
  },
  {
   "cell_type": "code",
   "execution_count": 51,
   "metadata": {},
   "outputs": [
    {
     "name": "stdout",
     "output_type": "stream",
     "text": [
      "Übergangsmatrix P: \n",
      " [[0.         1.         0.         0.        ]\n",
      " [0.33333333 0.         0.33333333 0.33333333]\n",
      " [0.         0.5        0.         0.5       ]\n",
      " [0.         0.5        0.5        0.        ]]\n",
      "Transpornierte Matrix: \n",
      " [[0.         0.33333333 0.         0.        ]\n",
      " [1.         0.         0.5        0.5       ]\n",
      " [0.         0.33333333 0.         0.5       ]\n",
      " [0.         0.33333333 0.5        0.        ]]\n",
      "Einheitsmatrix : \n",
      " [[1. 0. 0. 0.]\n",
      " [0. 1. 0. 0.]\n",
      " [0. 0. 1. 0.]\n",
      " [0. 0. 0. 1.]]\n",
      "Transponierte Matrix - Einheitsmatrix: \n",
      " [[-1.          0.33333333  0.          0.        ]\n",
      " [ 1.         -1.          0.5         0.5       ]\n",
      " [ 0.          0.33333333 -1.          0.5       ]\n",
      " [ 0.          0.33333333  0.5        -1.        ]]\n",
      "Hinzufügen der Bedingung: 1 1 1 1 1: \n",
      " [[-1.          0.33333333  0.          0.        ]\n",
      " [ 1.         -1.          0.5         0.5       ]\n",
      " [ 0.          0.33333333 -1.          0.5       ]\n",
      " [ 1.          1.          1.          1.        ]]\n",
      "Stationäre Verteilung pi: \n",
      " [0.125 0.375 0.25  0.25 ]\n"
     ]
    }
   ],
   "source": [
    "print(\"Übergangsmatrix P: \\n\", P)\n",
    "print(\"Transpornierte Matrix: \\n\", P.T)\n",
    "print(\"Einheitsmatrix : \\n\", np.eye(4))\n",
    "\n",
    "A = P.T - np.eye(4)\n",
    "print(\"Transponierte Matrix - Einheitsmatrix: \\n\", A)\n",
    "\n",
    "# Hinzufügen der Bedingung, dass die Summe von pi 1 ergibt\n",
    "A[-1] = [1, 1, 1, 1]\n",
    "print(\"Hinzufügen der Bedingung: 1 1 1 1 : \\n\", A)\n",
    "\n",
    "# Rechte Seite des Gleichungssystems (alles 0 außer der letzten 1)\n",
    "b = np.array([0, 0, 0, 1])\n",
    "\n",
    "pi = np.linalg.solve(A, b)\n",
    "\n",
    "print(\"Stationäre Verteilung pi: \\n\", pi)"
   ]
  },
  {
   "cell_type": "markdown",
   "metadata": {},
   "source": [
    "#### Pagerank"
   ]
  },
  {
   "cell_type": "code",
   "execution_count": 18,
   "metadata": {},
   "outputs": [],
   "source": [
    "A = np.array([\n",
    "    [0, 0, 1, 1, 0],\n",
    "    [1, 0, 0, 0, 0],\n",
    "    [1, 0, 0, 0, 1],\n",
    "    [0, 0, 0, 1, 0],\n",
    "    [1, 1, 1, 1, 1]\n",
    "])\n",
    "\n",
    "D = np.diag(np.sum(A, axis=1))\n",
    "P = np.linalg.inv(D) @ A"
   ]
  },
  {
   "cell_type": "markdown",
   "metadata": {},
   "source": [
    "## Räuber Beute Modell"
   ]
  },
  {
   "cell_type": "code",
   "execution_count": 1,
   "metadata": {},
   "outputs": [],
   "source": [
    "import numpy as np\n",
    "import matplotlib.pyplot as plt\n",
    "from scipy.integrate import solve_ivp"
   ]
  },
  {
   "cell_type": "code",
   "execution_count": 2,
   "metadata": {},
   "outputs": [],
   "source": [
    "a = 0.1  # Wachstumsrate der Beute\n",
    "b = 0.02  # Effektivität (Räuber fangen Beute)\n",
    "c = 0.1  # Sterberate der Räube\n",
    "d = 0.01  # Effizienz der Beute in Räuberwachstum"
   ]
  },
  {
   "cell_type": "code",
   "execution_count": 6,
   "metadata": {},
   "outputs": [],
   "source": [
    "def räuber_beute_modell(t, z):\n",
    "    \"\"\"X1: Beutepopulation, X2: Räuberpopulation\"\"\"\n",
    "    \n",
    "    X1, X2 = z  \n",
    "    dX1dt = a * X1 - b * X1 * X2\n",
    "    dX2dt = d * X1 * X2 - c * X2\n",
    "    return [dX1dt, dX2dt]\n",
    "\n",
    "X1_0 = 40  # Startgröße zum Zeitpunkt 0 der Beutepopulation\n",
    "X2_0 = 9   # Startgröße zum Zeitpunkt 0 der Räuberpopulation\n",
    "z0 = [X1_0, X2_0]"
   ]
  },
  {
   "cell_type": "code",
   "execution_count": 8,
   "metadata": {},
   "outputs": [],
   "source": [
    "zeit = (0, 200)  # von t=0 bis t=200\n",
    "zeit_eval = np.linspace(zeit[0], zeit[1], 1000) \n",
    "\n",
    "solution = solve_ivp(räuber_beute_modell, zeit, z0, t_eval=zeit_eval, method=\"RK45\")\n",
    "\n",
    "t = solution.t\n",
    "X1, X2 = solution.y"
   ]
  },
  {
   "cell_type": "code",
   "execution_count": 15,
   "metadata": {},
   "outputs": [
    {
     "data": {
      "image/png": "[encoded data removed]",
      "text/plain": [
       "<Figure size 640x480 with 1 Axes>"
      ]
     },
     "metadata": {},
     "output_type": "display_data"
    }
   ],
   "source": [
    "plt.plot(t, X1, label=\"Beutepopulation X1\", color=\"blue\")\n",
    "plt.plot(t, X2, label=\"Räuberpopulation X2\", color=\"red\")\n",
    "plt.xlabel(\"Zeit\")\n",
    "plt.ylabel(\"Populationsgröße\")\n",
    "plt.title(\"Zeitentwicklung der Populationen\")\n",
    "plt.legend()\n",
    "plt.grid()\n",
    "plt.show()"
   ]
  },
  {
   "cell_type": "code",
   "execution_count": 17,
   "metadata": {},
   "outputs": [
    {
     "data": {
      "image/png": "[encoded data removed]",
      "text/plain": [
       "<Figure size 640x480 with 1 Axes>"
      ]
     },
     "metadata": {},
     "output_type": "display_data"
    }
   ],
   "source": [
    "plt.plot(X1, X2, color=\"green\")\n",
    "plt.xlabel(\"Beutepopulation (X1)\")\n",
    "plt.ylabel(\"Räuberpopulation (X2)\")\n",
    "plt.title(\"Phasenraum-Darstellung\")\n",
    "plt.grid()\n",
    "plt.show()"
   ]
  },
  {
   "cell_type": "markdown",
   "metadata": {},
   "source": [
    "## Stabilitätsanalyse"
   ]
  },
  {
   "cell_type": "code",
   "execution_count": 19,
   "metadata": {},
   "outputs": [
    {
     "data": {
      "text/latex": [
       "$\\displaystyle r y \\left(1 - \\frac{y}{K}\\right)$"
      ],
      "text/plain": [
       "r*y*(1 - y/K)"
      ]
     },
     "execution_count": 19,
     "metadata": {},
     "output_type": "execute_result"
    }
   ],
   "source": [
    "y, t, r, K = sp.symbols('y t r K')\n",
    "\n",
    "f_y = r * y * (1 - y / K)\n",
    "\n",
    "f_y"
   ]
  },
  {
   "cell_type": "code",
   "execution_count": 20,
   "metadata": {},
   "outputs": [
    {
     "data": {
      "text/plain": [
       "[0, K]"
      ]
     },
     "execution_count": 20,
     "metadata": {},
     "output_type": "execute_result"
    }
   ],
   "source": [
    "### Nullstellen bestimmen:\n",
    "\n",
    "nullstellen = solve(f_y, y)\n",
    "nullstellen"
   ]
  },
  {
   "cell_type": "code",
   "execution_count": 21,
   "metadata": {},
   "outputs": [
    {
     "data": {
      "text/latex": [
       "$\\displaystyle \\frac{r \\left(K - 2 y\\right)}{K}$"
      ],
      "text/plain": [
       "r*(K - 2*y)/K"
      ]
     },
     "execution_count": 21,
     "metadata": {},
     "output_type": "execute_result"
    }
   ],
   "source": [
    "### Berechne die Ableitung von f(y) nach y:\n",
    "f_y_prime = sp.diff(f_y, y)\n",
    "f_y_prime.simplify()"
   ]
  },
  {
   "cell_type": "code",
   "execution_count": 22,
   "metadata": {},
   "outputs": [
    {
     "data": {
      "text/plain": [
       "(r, -r)"
      ]
     },
     "execution_count": 22,
     "metadata": {},
     "output_type": "execute_result"
    }
   ],
   "source": [
    "### Gleichgewichtspunkte y = und y = K einsetzten\n",
    "\n",
    "stability_at_y0 = f_y_prime.subs(y, 0)\n",
    "stability_at_yK = f_y_prime.subs(y, K)\n",
    "\n",
    "stability_at_y0, stability_at_yK\n",
    "    \n"
   ]
  },
  {
   "cell_type": "code",
   "execution_count": 23,
   "metadata": {},
   "outputs": [
    {
     "data": {
      "text/plain": [
       "(r, -r)"
      ]
     },
     "execution_count": 23,
     "metadata": {},
     "output_type": "execute_result"
    }
   ],
   "source": [
    "\n",
    "y, t, r, K = sp.symbols('y t r K')\n",
    "\n",
    "# Definiere die logistische Differentialgleichung\n",
    "f_y = r * y * (1 - y / K)\n",
    "\n",
    "# Berechne die Ableitung von f(y) nach y\n",
    "f_y_prime = sp.diff(f_y, y)\n",
    "\n",
    "# Setze die Gleichgewichtspunkte y = 0 und y = K ein\n",
    "stability_at_y0 = f_y_prime.subs(y, 0)\n",
    "stability_at_yK = f_y_prime.subs(y, K)\n",
    "\n",
    "stability_at_y0, stability_at_yK\n"
   ]
  },
  {
   "cell_type": "markdown",
   "metadata": {},
   "source": [
    "## DGL 2. Ordnung"
   ]
  },
  {
   "cell_type": "markdown",
   "metadata": {},
   "source": [
    "### (a)"
   ]
  },
  {
   "cell_type": "code",
   "execution_count": 24,
   "metadata": {},
   "outputs": [
    {
     "data": {
      "text/latex": [
       "$\\displaystyle 2 y{\\left(x \\right)} - 3 \\frac{d}{d x} y{\\left(x \\right)} + \\frac{d^{2}}{d x^{2}} y{\\left(x \\right)} = 0$"
      ],
      "text/plain": [
       "Eq(2*y(x) - 3*Derivative(y(x), x) + Derivative(y(x), (x, 2)), 0)"
      ]
     },
     "execution_count": 24,
     "metadata": {},
     "output_type": "execute_result"
    }
   ],
   "source": [
    "x = sp.symbols('x')\n",
    "y = sp.Function('y')\n",
    "\n",
    "dgl = sp.Eq(y(x).diff(x, 2) - 3*y(x).diff(x) + 2*y(x), 0)\n",
    "dgl"
   ]
  },
  {
   "cell_type": "code",
   "execution_count": 25,
   "metadata": {},
   "outputs": [
    {
     "data": {
      "text/latex": [
       "$\\displaystyle y{\\left(x \\right)} = \\left(C_{1} + C_{2} e^{x}\\right) e^{x}$"
      ],
      "text/plain": [
       "Eq(y(x), (C1 + C2*exp(x))*exp(x))"
      ]
     },
     "execution_count": 25,
     "metadata": {},
     "output_type": "execute_result"
    }
   ],
   "source": [
    "loesung = sp.dsolve(dgl, y(x))\n",
    "loesung.simplify()"
   ]
  },
  {
   "cell_type": "markdown",
   "metadata": {},
   "source": [
    "### (b)"
   ]
  },
  {
   "cell_type": "code",
   "execution_count": 26,
   "metadata": {},
   "outputs": [
    {
     "data": {
      "text/plain": [
       "[-1, 0]"
      ]
     },
     "execution_count": 26,
     "metadata": {},
     "output_type": "execute_result"
    }
   ],
   "source": [
    "eq = x**2 + x\n",
    "\n",
    "solve(eq, x)"
   ]
  },
  {
   "cell_type": "code",
   "execution_count": 27,
   "metadata": {},
   "outputs": [
    {
     "data": {
      "text/latex": [
       "$\\displaystyle \\frac{d}{d x} y{\\left(x \\right)} + \\frac{d^{2}}{d x^{2}} y{\\left(x \\right)} = 0$"
      ],
      "text/plain": [
       "Eq(Derivative(y(x), x) + Derivative(y(x), (x, 2)), 0)"
      ]
     },
     "execution_count": 27,
     "metadata": {},
     "output_type": "execute_result"
    }
   ],
   "source": [
    "x = sp.symbols('x')\n",
    "y = sp.Function('y')\n",
    "\n",
    "dgl = sp.Eq(y(x).diff(x, 2) + y(x).diff(x), 0)\n",
    "dgl\n",
    "\n"
   ]
  },
  {
   "cell_type": "code",
   "execution_count": 28,
   "metadata": {},
   "outputs": [
    {
     "data": {
      "text/latex": [
       "$\\displaystyle y{\\left(x \\right)} = C_{1} + C_{2} e^{- x}$"
      ],
      "text/plain": [
       "Eq(y(x), C1 + C2*exp(-x))"
      ]
     },
     "execution_count": 28,
     "metadata": {},
     "output_type": "execute_result"
    }
   ],
   "source": [
    "loesung = sp.dsolve(dgl, y(x))\n",
    "loesung"
   ]
  },
  {
   "cell_type": "markdown",
   "metadata": {},
   "source": [
    "### (c)"
   ]
  },
  {
   "cell_type": "code",
   "execution_count": 29,
   "metadata": {},
   "outputs": [
    {
     "data": {
      "text/latex": [
       "$\\displaystyle y{\\left(x \\right)} - 2 \\frac{d}{d x} y{\\left(x \\right)} + \\frac{d^{2}}{d x^{2}} y{\\left(x \\right)} = e^{x}$"
      ],
      "text/plain": [
       "Eq(y(x) - 2*Derivative(y(x), x) + Derivative(y(x), (x, 2)), exp(x))"
      ]
     },
     "execution_count": 29,
     "metadata": {},
     "output_type": "execute_result"
    }
   ],
   "source": [
    "x = sp.symbols('x')\n",
    "y = sp.Function('y')\n",
    "\n",
    "dgl = sp.Eq(y(x).diff(x, 2) - 2*y(x).diff(x) + y(x), sp.exp(x))\n",
    "\n",
    "dgl\n"
   ]
  },
  {
   "cell_type": "code",
   "execution_count": 30,
   "metadata": {},
   "outputs": [
    {
     "data": {
      "text/latex": [
       "$\\displaystyle y{\\left(x \\right)} = \\left(C_{1} + x \\left(C_{2} + \\frac{x}{2}\\right)\\right) e^{x}$"
      ],
      "text/plain": [
       "Eq(y(x), (C1 + x*(C2 + x/2))*exp(x))"
      ]
     },
     "execution_count": 30,
     "metadata": {},
     "output_type": "execute_result"
    }
   ],
   "source": [
    "loesung = sp.dsolve(dgl, y(x))\n",
    "loesung"
   ]
  },
  {
   "cell_type": "markdown",
   "metadata": {},
   "source": [
    "## Optimierungen"
   ]
  },
  {
   "cell_type": "code",
   "execution_count": 31,
   "metadata": {},
   "outputs": [],
   "source": [
    "from scipy.optimize import minimize"
   ]
  },
  {
   "cell_type": "markdown",
   "metadata": {},
   "source": [
    "### 1. Optimierung einer einfachen quadratischen Funktion"
   ]
  },
  {
   "cell_type": "code",
   "execution_count": 32,
   "metadata": {},
   "outputs": [
    {
     "name": "stdout",
     "output_type": "stream",
     "text": [
      "Optimales x: 3\n"
     ]
    }
   ],
   "source": [
    "def obj(x):\n",
    "    return (x - 3)**2\n",
    "\n",
    "x0 = 0\n",
    "result = minimize(obj, x0)\n",
    "print(\"Optimales x:\", round(result.x[0]))"
   ]
  },
  {
   "cell_type": "markdown",
   "metadata": {},
   "source": [
    "### 2. Mehrdimensionale Optimierung"
   ]
  },
  {
   "cell_type": "code",
   "execution_count": 33,
   "metadata": {},
   "outputs": [
    {
     "name": "stdout",
     "output_type": "stream",
     "text": [
      "Optimales x und y: [0.99999999 1.99999999]\n"
     ]
    }
   ],
   "source": [
    "def objective(x):\n",
    "    return (x[0] - 1) ** 2 + (x[1] - 2) ** 2\n",
    "\n",
    "x0 = [0, 0]\n",
    "\n",
    "result = minimize(objective, x0)\n",
    "print(\"Optimales x und y:\", result.x)\n"
   ]
  },
  {
   "cell_type": "markdown",
   "metadata": {},
   "source": [
    "## Gradient Verfahren"
   ]
  },
  {
   "cell_type": "code",
   "execution_count": 34,
   "metadata": {},
   "outputs": [
    {
     "name": "stdout",
     "output_type": "stream",
     "text": [
      "\n",
      "Geschätztes Minimum bei x = -7.0\n",
      "f(x) = 0.0\n"
     ]
    }
   ],
   "source": [
    "def f(x):\n",
    "    return (x + 7)**2\n",
    "\n",
    "def f_prime(x):\n",
    "    return 2 * (x + 7)\n",
    "\n",
    "eta = 0.1      # Lernrate\n",
    "x = 20.0       # Startwert für x\n",
    "num_iterations = 1000  # Anzahl Iterationen\n",
    "\n",
    "for i in range(num_iterations):\n",
    "    grad = f_prime(x)\n",
    "    x = x - eta * grad\n",
    "\n",
    "print(\"\\nGeschätztes Minimum bei x =\", x.__round__(2))\n",
    "print(\"f(x) =\", f(x.__round__(2)))"
   ]
  }
 ],
 "metadata": {
  "kernelspec": {
   "display_name": "Python 3",
   "language": "python",
   "name": "python3"
  },
  "language_info": {
   "codemirror_mode": {
    "name": "ipython",
    "version": 3
   },
   "file_extension": ".py",
   "mimetype": "text/x-python",
   "name": "python",
   "nbconvert_exporter": "python",
   "pygments_lexer": "ipython3",
   "version": "3.9.12"
  }
 },
 "nbformat": 4,
 "nbformat_minor": 2
}
