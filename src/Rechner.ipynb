{
 "cells": [
  {
   "cell_type": "code",
   "execution_count": 40,
   "metadata": {},
   "outputs": [],
   "source": [
    "import numpy as np\n",
    "from sympy import symbols, Eq, solve\n",
    "import sympy as sp"
   ]
  },
  {
   "cell_type": "markdown",
   "metadata": {},
   "source": [
    "## Linearen Gleichungssysteme"
   ]
  },
  {
   "cell_type": "markdown",
   "metadata": {},
   "source": [
    "### Apotheker Beispiel\n",
    "\n",
    "Ein Apotheker hat 36% und 21% Alkohol. Welche Mengen muss er mischen, um 5 Liter 30% Alkohol zu erhalten?\n",
    "\n",
    "I x1 + x2 = 5\n",
    "\n",
    "II 0.36x1 + 0.21x2 = 1.5"
   ]
  },
  {
   "cell_type": "code",
   "execution_count": 41,
   "metadata": {},
   "outputs": [
    {
     "name": "stdout",
     "output_type": "stream",
     "text": [
      "[[3.125]\n",
      " [1.875]]\n"
     ]
    }
   ],
   "source": [
    "A = np.array([\n",
    "    [1, 1],\n",
    "    [0.36, 0.2]\n",
    "])\n",
    "\n",
    "b = np.array([\n",
    "    [5],\n",
    "    [1.5]\n",
    "]\n",
    ")\n",
    "\n",
    "x = np.linalg.solve(A, b)\n",
    "print(x)\n",
    "\n",
    "### Lösung: x1 = 3.125, x2 = 1.875"
   ]
  },
  {
   "cell_type": "markdown",
   "metadata": {},
   "source": [
    "### Reaktionsgleichungen auflösen\n",
    "$$\n",
    "\\text{C} +  \\text{Fe}_2\\text{O}_3 \\rightarrow \\text{Fe} + \\text{CO}_2\n",
    "$$\n",
    "\n",
    "#### (1) Variablen einführen:\n",
    "$$\n",
    "a*\\text{C} +  b*\\text{Fe}_2\\text{O}_3 \\rightarrow c*\\text{Fe} + d*\\text{CO}_2\n",
    "$$\n",
    "\n",
    "#### (2) LGS aufstellen:\n",
    "\n",
    "I   a = d\n",
    "\n",
    "II  2b = c\n",
    "\n",
    "III 3b = 2d\n"
   ]
  },
  {
   "cell_type": "code",
   "execution_count": 42,
   "metadata": {},
   "outputs": [
    {
     "name": "stdout",
     "output_type": "stream",
     "text": [
      "Lösung in Abhängigkeit von c: {a: 3*c/4, b: c/2, d: 3*c/4}\n",
      "Lösung für c = 4: {a: 3, b: 2, d: 3}\n"
     ]
    }
   ],
   "source": [
    "a, b, c, d = symbols('a b c d')\n",
    "\n",
    "# Lineare Gleichungen aufstellen:\n",
    "eq1 = Eq(a - d, 0)\n",
    "eq2 = Eq(2*b - c, 0)\n",
    "eq3 = Eq(3*b - 2*d, 0)\n",
    "\n",
    "# erste Lösung:\n",
    "lsg1 = solve([eq1, eq2, eq3], (a, b, d))\n",
    "print(\"Lösung in Abhängigkeit von c:\", lsg1)\n",
    "\n",
    "# Now you can substitute c with a value like 4\n",
    "lsg2 = {c: 4}\n",
    "lsg2 = {var: lsg1[var].subs(lsg2) for var in lsg1}\n",
    "print(\"Lösung für c = 4:\", lsg2)"
   ]
  },
  {
   "cell_type": "markdown",
   "metadata": {},
   "source": [
    "## Chemische Reaktionen im Mehrspeziessystem"
   ]
  },
  {
   "cell_type": "markdown",
   "metadata": {},
   "source": [
    "### Kern und Abbild"
   ]
  },
  {
   "cell_type": "code",
   "execution_count": 43,
   "metadata": {},
   "outputs": [
    {
     "data": {
      "text/latex": [
       "$\\displaystyle \\left[\\begin{matrix}1 & 2\\\\3 & 6\\end{matrix}\\right]$"
      ],
      "text/plain": [
       "Matrix([\n",
       "[1, 2],\n",
       "[3, 6]])"
      ]
     },
     "execution_count": 43,
     "metadata": {},
     "output_type": "execute_result"
    }
   ],
   "source": [
    "A = sp.Matrix([[1, 2], [3, 6]])\n",
    "A"
   ]
  },
  {
   "cell_type": "code",
   "execution_count": 44,
   "metadata": {},
   "outputs": [
    {
     "name": "stdout",
     "output_type": "stream",
     "text": [
      "Der Kern (Nullraum) der Matrix ist:\n"
     ]
    },
    {
     "data": {
      "text/latex": [
       "$\\displaystyle \\left[\\begin{matrix}-2\\\\1\\end{matrix}\\right]$"
      ],
      "text/plain": [
       "Matrix([\n",
       "[-2],\n",
       "[ 1]])"
      ]
     },
     "execution_count": 44,
     "metadata": {},
     "output_type": "execute_result"
    }
   ],
   "source": [
    "\n",
    "kern = A.nullspace()[0]\n",
    "print(\"Der Kern (Nullraum) der Matrix ist:\")\n",
    "kern\n"
   ]
  },
  {
   "cell_type": "code",
   "execution_count": 45,
   "metadata": {},
   "outputs": [
    {
     "name": "stdout",
     "output_type": "stream",
     "text": [
      "Der Spaltenraum (Bild) der Matrix ist:\n"
     ]
    },
    {
     "data": {
      "text/latex": [
       "$\\displaystyle \\left[\\begin{matrix}1\\\\3\\end{matrix}\\right]$"
      ],
      "text/plain": [
       "Matrix([\n",
       "[1],\n",
       "[3]])"
      ]
     },
     "execution_count": 45,
     "metadata": {},
     "output_type": "execute_result"
    }
   ],
   "source": [
    "bild = A.columnspace()[0]\n",
    "\n",
    "print(\"Der Spaltenraum (Bild) der Matrix ist:\")\n",
    "bild"
   ]
  },
  {
   "cell_type": "markdown",
   "metadata": {},
   "source": [
    "### Beispiel\n",
    "$$\n",
    "    (\\text{Na}_2\\text{O}, \\text{Cr}\\text{Cl}_3, \\text{Na}\\text{O}\\text{H}, \\text{Na}\\text{Cl}, \\text{H}_2\\text{O}, \\text{Na}_2\\text{Cr}\\text{O}_4, \\text{Cl}_2), (H, O, Cr, Cl)\n",
    "$$\n"
   ]
  },
  {
   "cell_type": "code",
   "execution_count": 46,
   "metadata": {},
   "outputs": [
    {
     "data": {
      "text/latex": [
       "$\\displaystyle \\left[\\begin{matrix}0 & 0 & 1 & 0 & 2 & 0 & 0\\\\1 & 0 & 1 & 0 & 1 & 4 & 0\\\\2 & 0 & 1 & 1 & 0 & 2 & 0\\\\0 & 1 & 0 & 0 & 0 & 1 & 0\\\\0 & 3 & 0 & 1 & 0 & 0 & 2\\end{matrix}\\right]$"
      ],
      "text/plain": [
       "Matrix([\n",
       "[0, 0, 1, 0, 2, 0, 0],\n",
       "[1, 0, 1, 0, 1, 4, 0],\n",
       "[2, 0, 1, 1, 0, 2, 0],\n",
       "[0, 1, 0, 0, 0, 1, 0],\n",
       "[0, 3, 0, 1, 0, 0, 2]])"
      ]
     },
     "execution_count": 46,
     "metadata": {},
     "output_type": "execute_result"
    }
   ],
   "source": [
    "# Formelmatrix A:\n",
    "\n",
    "A = sp.Matrix(\n",
    "    [[0, 0, 1, 0, 2, 0, 0],\n",
    "     [1, 0, 1, 0, 1, 4, 0],\n",
    "     [2, 0, 1, 1, 0, 2, 0],\n",
    "     [0, 1, 0, 0, 0, 1, 0],\n",
    "     [0, 3, 0, 1, 0, 0, 2]]\n",
    ")\n",
    "A"
   ]
  },
  {
   "cell_type": "code",
   "execution_count": 47,
   "metadata": {},
   "outputs": [
    {
     "data": {
      "text/latex": [
       "$\\displaystyle \\left[\\begin{matrix}-4 & 1\\\\-1 & 0\\\\0 & -2\\\\6 & 0\\\\-1.5 & 0\\end{matrix}\\right]$"
      ],
      "text/plain": [
       "Matrix([\n",
       "[  -4,  1],\n",
       "[  -1,  0],\n",
       "[   0, -2],\n",
       "[   6,  0],\n",
       "[-1.5,  0]])"
      ]
     },
     "execution_count": 47,
     "metadata": {},
     "output_type": "execute_result"
    }
   ],
   "source": [
    "# Gauß-Verfahren und A^:\n",
    "\n",
    "A_rref = sp.Matrix(\n",
    "    [[1, 0, 0, 0, 0, 4, -1],\n",
    "     [0, 1, 0, 0, 0, 1, 0],\n",
    "     [0, 0, 1, 0, 0, 0, 2],\n",
    "     [0, 0, 0, 1, 0, -6, 0],\n",
    "     [0, 0, 0, 0, 1, 3/2, 0]]\n",
    ")\n",
    "A_rref\n",
    "A_hut = A_rref[:, [5, 6]] * -1\n",
    "\n",
    "A_hut\n"
   ]
  },
  {
   "cell_type": "code",
   "execution_count": 49,
   "metadata": {},
   "outputs": [
    {
     "data": {
      "text/latex": [
       "$\\displaystyle \\left[\\begin{matrix}-4 & 1\\\\-1 & 0\\\\0 & -2\\\\6 & 0\\\\-1.5 & 0\\\\1 & 0\\\\0 & 1\\end{matrix}\\right]$"
      ],
      "text/plain": [
       "Matrix([\n",
       "[  -4,  1],\n",
       "[  -1,  0],\n",
       "[   0, -2],\n",
       "[   6,  0],\n",
       "[-1.5,  0],\n",
       "[   1,  0],\n",
       "[   0,  1]])"
      ]
     },
     "execution_count": 49,
     "metadata": {},
     "output_type": "execute_result"
    }
   ],
   "source": [
    "# Stöchiometrische Matrix Y:\n",
    "\n",
    "Y = A_hut.row_insert(A_hut.rows, sp.Matrix.eye(A_hut.cols))\n",
    "Y"
   ]
  },
  {
   "cell_type": "markdown",
   "metadata": {},
   "source": [
    "Reaktionen: \n",
    "\n",
    "$$\n",
    "     17\\text{Na}\\text{Cl} + 2\\text{Na}_2\\text{Cr}\\text{O}_4 \\rightarrow\\ 8\\text{Na}_2\\text{O} + 2\\text{Cr}\\text{Cl}_3 + 3\\text{Cl}_2\n",
    "$$\n",
    "\n",
    "$$\n",
    "     \\text{Na}_2\\text{O} + \\text{H}_2\\text{O} \\rightarrow\\ 2\\text{Na}\\text{O}\\text{H}\n",
    "$$"
   ]
  }
 ],
 "metadata": {
  "kernelspec": {
   "display_name": ".venv",
   "language": "python",
   "name": "python3"
  },
  "language_info": {
   "codemirror_mode": {
    "name": "ipython",
    "version": 3
   },
   "file_extension": ".py",
   "mimetype": "text/x-python",
   "name": "python",
   "nbconvert_exporter": "python",
   "pygments_lexer": "ipython3",
   "version": "3.9.12"
  }
 },
 "nbformat": 4,
 "nbformat_minor": 2
}
