{
 "cells": [
  {
   "cell_type": "code",
   "execution_count": 1,
   "metadata": {},
   "outputs": [],
   "source": [
    "import numpy as np\n",
    "np.set_printoptions(suppress=True)\n"
   ]
  },
  {
   "cell_type": "markdown",
   "metadata": {},
   "source": [
    "## Beispiel aus der Vorlesung"
   ]
  },
  {
   "cell_type": "markdown",
   "metadata": {},
   "source": [
    "### Kirkhoffsches Spannungsgesetz (Beziehung zwischen Potenital und Spannung)\n",
    "\n",
    "$$e = -Bx$$\n",
    "wobei: \n",
    "* e... Spannungsvektor (gesucht),\n",
    "* B... Inzidenzmatrix des Netzwerks, die die Geometrie des Netztwerks beschreibt (gegeben),\n",
    "* x... Potentialvektor (gesucht)\n"
   ]
  },
  {
   "cell_type": "code",
   "execution_count": 2,
   "metadata": {},
   "outputs": [],
   "source": [
    "### Inzidenzmatrix B:\n",
    "\n",
    "B = np.array([\n",
    "    [-1, 1, 0, 0, 0],\n",
    "    [0, -1, 1, 0, 0],\n",
    "    [0, 0, -1, 1, 0],\n",
    "    [-1, 0, 0, 1, 0],\n",
    "    [0, 0, 0, -1, 1],\n",
    "    [0, 1, 0, 0, -1]\n",
    "])\n"
   ]
  },
  {
   "cell_type": "markdown",
   "metadata": {},
   "source": [
    "### Ohmsche Gesetz (Beziehung zwischen Spannung und Stromstärke)\n",
    "\n",
    "$$y = C(e+b)$$\n",
    "wobei:\n",
    "* y... Stromvektor (gesucht),\n",
    "* C... Leitwerkmatrix als Diagonalmatrix, die die Widerstände beinhaltet (gegeben),\n",
    "* b... Spannungsquellenvektor (gegeben)"
   ]
  },
  {
   "cell_type": "code",
   "execution_count": 3,
   "metadata": {},
   "outputs": [],
   "source": [
    "### Leitwerkmatirx als Diagonalmatrix C:\n",
    "\n",
    "C = np.diag([1, 1, 1, 1, 1, 1])\n",
    "\n",
    "### Spannungsquelle Matrix b:\n",
    "\n",
    "b = np.array([[-2], [0], [4], [0], [0], [0]])"
   ]
  },
  {
   "cell_type": "markdown",
   "metadata": {},
   "source": [
    "### Kirkhoffsches Stromgesetz\n",
    "\n",
    "$$B^Ty=0$$\n",
    "wobei:\n",
    "* B... transponierte Inzidenzmatrix des Netzwerks, die die Geometrie des Netztwerks beschreibt (gegeben),\n",
    "* y... Stromvektor (gesucht),\n"
   ]
  },
  {
   "cell_type": "code",
   "execution_count": 4,
   "metadata": {},
   "outputs": [],
   "source": [
    "BT = B.T"
   ]
  },
  {
   "cell_type": "markdown",
   "metadata": {},
   "source": [
    "### Lösung: \n",
    "\n",
    "$$B^TCB=B^Tbx$$"
   ]
  },
  {
   "cell_type": "code",
   "execution_count": 5,
   "metadata": {},
   "outputs": [],
   "source": [
    "BtCB = np.dot(np.dot(BT, C), B)\n",
    "\n",
    "Btb = np.dot(BT, b)"
   ]
  },
  {
   "cell_type": "markdown",
   "metadata": {},
   "source": [
    "### Potentialvektor x"
   ]
  },
  {
   "cell_type": "code",
   "execution_count": 6,
   "metadata": {},
   "outputs": [
    {
     "name": "stdout",
     "output_type": "stream",
     "text": [
      "x:\n",
      "[[ 1.]\n",
      " [-1.]\n",
      " [-2.]\n",
      " [ 1.]\n",
      " [ 0.]]\n"
     ]
    }
   ],
   "source": [
    "BtCB_red = BtCB[:-1, :-1]  # Letzte Zeile und Spalte entfernen\n",
    "Btb_red = Btb[:-1]       # Letztes Element entfernen\n",
    "\n",
    "# Löse das reduzierte Gleichungssystem\n",
    "x_reduced = np.linalg.solve(BtCB_red, Btb_red)\n",
    "\n",
    "# Füge x_5 = 0 zur Lösung hinzu\n",
    "x = np.append(x_reduced, 0).reshape(-1, 1) \n",
    "\n",
    "# Zeige das Ergebnis\n",
    "print(\"x:\")\n",
    "print(x)"
   ]
  },
  {
   "cell_type": "markdown",
   "metadata": {},
   "source": [
    "### Spannungsvektor e\n"
   ]
  },
  {
   "cell_type": "code",
   "execution_count": 7,
   "metadata": {},
   "outputs": [
    {
     "name": "stdout",
     "output_type": "stream",
     "text": [
      "e:\n",
      "[[ 2.]\n",
      " [ 1.]\n",
      " [-3.]\n",
      " [ 0.]\n",
      " [ 1.]\n",
      " [ 1.]]\n"
     ]
    }
   ],
   "source": [
    "e = np.dot(-B, x)\n",
    "e = np.round(e)\n",
    "e[3] = 0\n",
    "print(\"e:\")\n",
    "print(e)"
   ]
  },
  {
   "cell_type": "markdown",
   "metadata": {},
   "source": [
    "### Stromvektor y"
   ]
  },
  {
   "cell_type": "code",
   "execution_count": 8,
   "metadata": {},
   "outputs": [
    {
     "name": "stdout",
     "output_type": "stream",
     "text": [
      "y:\n",
      "[[0.]\n",
      " [1.]\n",
      " [1.]\n",
      " [0.]\n",
      " [1.]\n",
      " [1.]]\n"
     ]
    }
   ],
   "source": [
    "y = e + b\n",
    "print(\"y:\")\n",
    "print(y)"
   ]
  },
  {
   "cell_type": "markdown",
   "metadata": {},
   "source": [
    "## Aufgabe 2"
   ]
  },
  {
   "cell_type": "markdown",
   "metadata": {},
   "source": [
    "### Matrizen"
   ]
  },
  {
   "cell_type": "code",
   "execution_count": 9,
   "metadata": {},
   "outputs": [],
   "source": [
    "B = np.array([[-1,  1,  0,  0,  0,  0],\n",
    "              [0, -1,  1,  0,  0,  0],\n",
    "              [0,  0, -1,  1,  0,  0],\n",
    "              [0,  0,  0, -1,  1,  0],\n",
    "              [0,  0,  0,  0, -1,  1],\n",
    "              [1,  0,  0,  0,  0, -1],\n",
    "              [0,  1,  0,  0,  0, -1],\n",
    "              [0, -1,  0,  1,  0,  0],\n",
    "              [0,  1,  0,  0, -1,  0]])\n",
    "\n",
    "BT = B.T\n",
    "\n",
    "C = diagonal_matrix = np.diag([1, 1, 1, 1, 1, 1, 0.5, 0.5, 0.25])\n",
    "b = np.array([[0], [0], [-2], [0], [0], [2], [0], [0], [-4]])\n"
   ]
  },
  {
   "cell_type": "markdown",
   "metadata": {},
   "source": [
    "### Lösung: \n",
    "\n",
    "$$B^TCB=B^TCbx$$"
   ]
  },
  {
   "cell_type": "code",
   "execution_count": 10,
   "metadata": {},
   "outputs": [],
   "source": [
    "BtCB = np.dot(np.dot(BT, C), B)\n",
    "\n",
    "Btb = np.dot(BT, b)"
   ]
  },
  {
   "cell_type": "markdown",
   "metadata": {},
   "source": [
    "### Potentialvektor x"
   ]
  },
  {
   "cell_type": "code",
   "execution_count": 11,
   "metadata": {},
   "outputs": [
    {
     "name": "stdout",
     "output_type": "stream",
     "text": [
      "x:\n",
      "[[ 0.65]\n",
      " [-0.7 ]\n",
      " [ 0.65]\n",
      " [ 0.  ]\n",
      " [ 1.7 ]\n",
      " [ 0.  ]]\n"
     ]
    }
   ],
   "source": [
    "BtCB_red = BtCB[:-1, :-1]  # Letzte Zeile und Spalte entfernen\n",
    "Btb_red = Btb[:-1]       # Letztes Element entfernen\n",
    "\n",
    "# Löse das reduzierte Gleichungssystem\n",
    "x_reduced = np.linalg.solve(BtCB_red, Btb_red)\n",
    "\n",
    "# Füge x_5 = 0 zur Lösung hinzu\n",
    "x = np.append(x_reduced, 0).reshape(-1, 1) \n",
    "\n",
    "# Zeige das Ergebnis\n",
    "print(\"x:\")\n",
    "print(x)"
   ]
  },
  {
   "cell_type": "markdown",
   "metadata": {},
   "source": [
    "### Spannungsvektor e\n"
   ]
  },
  {
   "cell_type": "code",
   "execution_count": 12,
   "metadata": {},
   "outputs": [
    {
     "name": "stdout",
     "output_type": "stream",
     "text": [
      "e:\n",
      "[[ 1.35]\n",
      " [-1.35]\n",
      " [ 0.65]\n",
      " [-1.7 ]\n",
      " [ 1.7 ]\n",
      " [-0.65]\n",
      " [ 0.7 ]\n",
      " [-0.7 ]\n",
      " [ 2.4 ]]\n"
     ]
    }
   ],
   "source": [
    "e = np.dot(-B, x)\n",
    "print(\"e:\")\n",
    "print(e)"
   ]
  },
  {
   "cell_type": "markdown",
   "metadata": {},
   "source": [
    "### Stromvektor y"
   ]
  },
  {
   "cell_type": "code",
   "execution_count": 13,
   "metadata": {},
   "outputs": [
    {
     "name": "stdout",
     "output_type": "stream",
     "text": [
      "y:\n",
      "[[ 1.35]\n",
      " [-1.35]\n",
      " [-1.35]\n",
      " [-1.7 ]\n",
      " [ 1.7 ]\n",
      " [ 1.35]\n",
      " [ 0.7 ]\n",
      " [-0.7 ]\n",
      " [-1.6 ]]\n"
     ]
    }
   ],
   "source": [
    "y = e + b\n",
    "print(\"y:\")\n",
    "print(y)"
   ]
  }
 ],
 "metadata": {
  "kernelspec": {
   "display_name": ".venv",
   "language": "python",
   "name": "python3"
  },
  "language_info": {
   "codemirror_mode": {
    "name": "ipython",
    "version": 3
   },
   "file_extension": ".py",
   "mimetype": "text/x-python",
   "name": "python",
   "nbconvert_exporter": "python",
   "pygments_lexer": "ipython3",
   "version": "3.9.12"
  }
 },
 "nbformat": 4,
 "nbformat_minor": 2
}
