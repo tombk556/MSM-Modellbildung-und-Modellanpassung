{
 "cells": [
  {
   "cell_type": "markdown",
   "metadata": {},
   "source": [
    "## Aufgabe 5:"
   ]
  },
  {
   "cell_type": "code",
   "execution_count": 6,
   "metadata": {},
   "outputs": [],
   "source": [
    "import math"
   ]
  },
  {
   "cell_type": "code",
   "execution_count": 11,
   "metadata": {},
   "outputs": [
    {
     "name": "stdout",
     "output_type": "stream",
     "text": [
      "70\n",
      "8.366600265340756\n",
      "2.3389428374280206\n",
      "True\n",
      "60.16870131011722\n",
      "60\n"
     ]
    }
   ],
   "source": [
    "# a)\n",
    "print(-20 * 15 + 5 * 74)\n",
    "\n",
    "# b)\n",
    "var1 = -20 * 15 + 5 * 74\n",
    "\n",
    "# c)\n",
    "print(var1**0.5)\n",
    "\n",
    "# d)\n",
    "var2 = var1**(1/5)\n",
    "print(var2)\n",
    "\n",
    "# e)\n",
    "print(var2 < math.pi)\n",
    "\n",
    "# f)\n",
    "var3 = (math.exp(5) - math.pi**2) / math.log(10)\n",
    "print(var3)\n",
    "\n",
    "# g)\n",
    "print(round(var3))"
   ]
  },
  {
   "cell_type": "markdown",
   "metadata": {},
   "source": [
    "## Aufgabe 6)"
   ]
  },
  {
   "cell_type": "code",
   "execution_count": 19,
   "metadata": {},
   "outputs": [
    {
     "name": "stdout",
     "output_type": "stream",
     "text": [
      "5.7\n",
      "16.455555555555552\n",
      "22.677777777777777\n",
      "0.6713336002425382\n"
     ]
    }
   ],
   "source": [
    "# a)\n",
    "x = [2, -3, 5, 7, 8, 6, 5, 6, 9, 12]\n",
    "y = [4, 7, 6, 9, 14, 17, 23, 20, 17, 30]\n",
    "\n",
    "# b)\n",
    "sum = 0\n",
    "for i in x:\n",
    "    sum += i\n",
    "    \n",
    "x_mean = sum / len(x)\n",
    "print(x_mean)\n",
    "\n",
    "sum = 0\n",
    "for i in x:\n",
    "    sum += (i - x_mean)**2\n",
    "\n",
    "x_variance = sum / (len(x) - 1)\n",
    "print(x_variance)\n",
    "\n",
    "# c)\n",
    "sum = 0\n",
    "for i in y:\n",
    "    sum += i\n",
    "y_mean = sum / len(y)\n",
    "\n",
    "sum = 0\n",
    "for i, j in zip(x, y):\n",
    "    sum += (i - x_mean) * (j - y_mean)\n",
    "    \n",
    "covariance = sum / (len(x) - 1)\n",
    "print(covariance)\n",
    "\n",
    "# d)\n",
    "sum = 0\n",
    "for i in y:\n",
    "    sum += (i - y_mean)**2\n",
    "\n",
    "y_variance = sum / (len(y) - 1)\n",
    "\n",
    "correlation = covariance / (x_variance * y_variance)**0.5\n",
    "print(correlation)"
   ]
  }
 ],
 "metadata": {
  "kernelspec": {
   "display_name": "Python 3",
   "language": "python",
   "name": "python3"
  },
  "language_info": {
   "codemirror_mode": {
    "name": "ipython",
    "version": 3
   },
   "file_extension": ".py",
   "mimetype": "text/x-python",
   "name": "python",
   "nbconvert_exporter": "python",
   "pygments_lexer": "ipython3",
   "version": "3.9.12"
  }
 },
 "nbformat": 4,
 "nbformat_minor": 2
}
