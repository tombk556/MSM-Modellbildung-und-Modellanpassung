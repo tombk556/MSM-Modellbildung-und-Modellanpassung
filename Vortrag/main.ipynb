{
 "cells": [
  {
   "cell_type": "code",
   "execution_count": 2,
   "metadata": {},
   "outputs": [],
   "source": [
    "import numpy as np\n",
    "import matplotlib.pyplot as plt"
   ]
  },
  {
   "cell_type": "markdown",
   "metadata": {},
   "source": [
    "### Parameter definieren"
   ]
  },
  {
   "cell_type": "code",
   "execution_count": 1,
   "metadata": {},
   "outputs": [],
   "source": [
    "rows = 64\n",
    "cols = 64\n",
    "num_pixels = rows * cols\n",
    "\n",
    "num_angles = 30      # Anzahl der Winkel\n",
    "num_rays_per_angle = 100   # Anzahl paralleler Strahlen pro Winkel\n",
    "I0 = 100.0  "
   ]
  },
  {
   "cell_type": "markdown",
   "metadata": {},
   "source": [
    "### Phantom Bild\n",
    "\n",
    "- erstellte als Phantom Bild ein Kreis, dass als Untersuchungsobjekt dient\n",
    "- Die Pixel Werte sollen nun bestimmt werden"
   ]
  },
  {
   "cell_type": "code",
   "execution_count": 3,
   "metadata": {},
   "outputs": [],
   "source": [
    "def phantom_bild(rows: int, cols: int) -> np.ndarray:\n",
    "    phantom = np.zeros((rows, cols))\n",
    "    yy, xx = np.indices((rows, cols))\n",
    "    cy, cx = rows//2, cols//2\n",
    "    r = min(rows, cols)//4\n",
    "    # Kreis in der Mitte\n",
    "    mask_circle = (xx - cx)**2 + (yy - cy)**2 <= r**2\n",
    "    phantom[mask_circle] = 5.0\n",
    "    # Rechteck oben links\n",
    "    phantom[10:20, 10:25] = 3.0\n",
    "    return phantom\n"
   ]
  },
  {
   "cell_type": "markdown",
   "metadata": {},
   "source": [
    "### Strahlenabsorption\n",
    "\n",
    "- Die Funktion implementiert die Abschwächung der Röntgenstrahlen die durch den Körper gehen während der CT-Untersuchung\n",
    "\n",
    "- Diese Abschwächung wird als Summe aller Pixelwerte entlang des Strahlweges implementiert "
   ]
  },
  {
   "cell_type": "code",
   "execution_count": 5,
   "metadata": {},
   "outputs": [],
   "source": [
    "def line_pixels_detection(start, end, rows, cols):\n",
    "    y0, x0 = start\n",
    "    y1, x1 = end\n",
    "\n",
    "    dy = abs(y1 - y0)\n",
    "    dx = abs(x1 - x0)\n",
    "    sy = 1 if y0 < y1 else -1\n",
    "    sx = 1 if x0 < x1 else -1\n",
    "    err = dx - dy\n",
    "\n",
    "    pixels = []\n",
    "    x, y = x0, y0\n",
    "    while True:\n",
    "        if 0 <= y < rows and 0 <= x < cols:\n",
    "            pixels.append((y,x))\n",
    "        if x == x1 and y == y1:\n",
    "            break\n",
    "        e2 = 2*err\n",
    "        if e2 > -dy:\n",
    "            err -= dy\n",
    "            x += sx\n",
    "        if e2 < dx:\n",
    "            err += dx\n",
    "            y += sy\n",
    "    return pixels"
   ]
  },
  {
   "cell_type": "markdown",
   "metadata": {},
   "source": [
    "### Untersuchung und Messung\n",
    "\n",
    "- Daten werden erzeugt"
   ]
  },
  {
   "cell_type": "code",
   "execution_count": 4,
   "metadata": {},
   "outputs": [],
   "source": [
    "angles = np.linspace(0, 180, num_angles, endpoint=False)\n",
    "A_rows = []\n",
    "b_vec = []\n",
    "\n",
    "cy, cx = rows/2.0, cols/2.0\n",
    "max_offset = max(rows, cols)/2.0\n",
    "offsets = np.linspace(-max_offset, max_offset, num_rays_per_angle)\n",
    "true_image = phantom_bild(rows, cols)\n",
    "true_x = true_image.flatten()"
   ]
  },
  {
   "cell_type": "code",
   "execution_count": 7,
   "metadata": {},
   "outputs": [],
   "source": [
    "for alpha_deg in angles:\n",
    "    # Strahl erzeugen in Bogenmaß alpha\n",
    "    alpha = np.deg2rad(alpha_deg)\n",
    "    \n",
    "    # Richtung des Strahls bestimmen: (dx, dy) = (cos(alpha), sin(alpha))\n",
    "    dx = np.cos(alpha)\n",
    "    dy = np.sin(alpha) \n",
    "    \n",
    "    # Normalenvektor (90° Versatz) bestimmen: (nx, ny) = (-sin(alpha), cos(alpha))\n",
    "    nx = -np.sin(alpha)\n",
    "    ny = np.cos(alpha)\n",
    "\n",
    "    for t in offsets:\n",
    "        # Px0, Py0 ist ein Punkt auf der Strahlenlinie, der um t in Richtung des Normalenvektors verschoben ist\n",
    "        Px0 = cx + t*nx\n",
    "        Py0 = cy + t*ny\n",
    "\n",
    "        # Wir wählen einen großen Bereich in lam_min und lam_max, um sicherzugehen,\n",
    "        # dass die gerade Linie das Bildfeld komplett durchquert.\n",
    "        lam_min = -max(rows, cols)\n",
    "        lam_max = max(rows, cols)\n",
    "\n",
    "        Xstart = Px0 + lam_min*dx\n",
    "        Ystart = Py0 + lam_min*dy\n",
    "        Xend = Px0 + lam_max*dx\n",
    "        Yend = Py0 + lam_max*dy\n",
    "\n",
    "        start_pixel = (int(round(Ystart)), int(round(Xstart)))\n",
    "        end_pixel   = (int(round(Yend)),   int(round(Xend)))\n",
    "\n",
    "        # Bestimme die Pixel auf diesem Strahl\n",
    "        ray_pixels = line_pixels_detection(start_pixel, end_pixel, rows, cols)\n",
    "\n",
    "        # Berechne die Abschwächung: Summe der Pixelwerte auf dem Strahl\n",
    "        true_attenuation = sum(true_image[y,x] for (y,x) in ray_pixels)\n",
    "        # Ausgangsintensität\n",
    "        I_out = I0 - true_attenuation\n",
    "\n",
    "        # sum(x_j) = I0 - I_out\n",
    "        # Hier entsteht eine Gleichung: Für alle Pixel auf dem Strahl ist der Koeffizient 1, sonst 0.\n",
    "        row = np.zeros(num_pixels)\n",
    "        for (y,x) in ray_pixels:\n",
    "            row[y*cols + x] = 1.0\n",
    "\n",
    "        A_rows.append(row)\n",
    "        b_vec.append(I0 - I_out)\n"
   ]
  },
  {
   "cell_type": "markdown",
   "metadata": {},
   "source": [
    "### LGS wird erzeugt"
   ]
  },
  {
   "cell_type": "code",
   "execution_count": 8,
   "metadata": {},
   "outputs": [],
   "source": [
    "A = np.array(A_rows)\n",
    "b = np.array(b_vec)"
   ]
  },
  {
   "cell_type": "markdown",
   "metadata": {},
   "source": [
    "### LGS lösen"
   ]
  },
  {
   "cell_type": "code",
   "execution_count": 9,
   "metadata": {},
   "outputs": [],
   "source": [
    "X, residuals, rank, s = np.linalg.lstsq(A, b, rcond=None)"
   ]
  },
  {
   "cell_type": "markdown",
   "metadata": {},
   "source": [
    "### Körper Bild Rekonstruieren"
   ]
  },
  {
   "cell_type": "code",
   "execution_count": 10,
   "metadata": {},
   "outputs": [],
   "source": [
    "reconstructed_image = X.reshape((rows, cols))"
   ]
  },
  {
   "cell_type": "code",
   "execution_count": 11,
   "metadata": {},
   "outputs": [
    {
     "data": {
      "image/png": "[encoded data removed]",
      "text/plain": [
       "<Figure size 1000x500 with 2 Axes>"
      ]
     },
     "metadata": {},
     "output_type": "display_data"
    }
   ],
   "source": [
    "fig, axs = plt.subplots(1, 2, figsize=(10,5))\n",
    "axs[0].imshow(true_image, cmap='gray', vmin=0, vmax=np.max(true_image))\n",
    "axs[0].set_title('Wahres Objekt')\n",
    "axs[1].imshow(reconstructed_image, cmap='gray', vmin=0, vmax=np.max(reconstructed_image))\n",
    "axs[1].set_title('Rekonstruktion')\n",
    "for ax in axs:\n",
    "    ax.axis('off')\n",
    "plt.tight_layout()\n",
    "plt.show()"
   ]
  }
 ],
 "metadata": {
  "kernelspec": {
   "display_name": "Python 3",
   "language": "python",
   "name": "python3"
  },
  "language_info": {
   "codemirror_mode": {
    "name": "ipython",
    "version": 3
   },
   "file_extension": ".py",
   "mimetype": "text/x-python",
   "name": "python",
   "nbconvert_exporter": "python",
   "pygments_lexer": "ipython3",
   "version": "3.9.12"
  }
 },
 "nbformat": 4,
 "nbformat_minor": 2
}
